{
 "cells": [
  {
   "cell_type": "code",
   "execution_count": 6,
   "id": "de101982-105c-4832-9308-7efb7b5a9108",
   "metadata": {},
   "outputs": [
    {
     "name": "stderr",
     "output_type": "stream",
     "text": [
      "2025-05-04 09:48:19,183 - INFO - Processing file: processed_titanic_data.csv\n",
      "2025-05-04 09:48:19,190 - INFO - CSV file loaded successfully.\n",
      "2025-05-04 09:48:19,198 - INFO - Selected columns: ['Name', 'Sex', 'Age', 'Fare', 'Embarked']\n",
      "2025-05-04 09:48:19,210 - INFO - Filled missing values in column: Sex\n",
      "2025-05-04 09:48:19,219 - INFO - Filled missing values in column: Age\n",
      "2025-05-04 09:48:19,221 - INFO - Filled missing values in column: Fare\n",
      "2025-05-04 09:48:19,222 - INFO - Filled missing values in column: Embarked\n",
      "2025-05-04 09:48:19,227 - INFO - Filled missing values in categorical column: Name\n",
      "2025-05-04 09:48:19,234 - INFO - Encoded column: Name\n",
      "2025-05-04 09:48:19,247 - INFO - Scaled numeric columns: Index(['Name', 'Sex', 'Age', 'Fare', 'Embarked'], dtype='object')\n",
      "2025-05-04 09:48:19,256 - INFO - Processed file saved as 'processed_output.csv'\n"
     ]
    }
   ],
   "source": [
    "import pandas as pd\n",
    "from sklearn.preprocessing import LabelEncoder, StandardScaler\n",
    "import sys\n",
    "import os\n",
    "import logging\n",
    "\n",
    "# Set up logging\n",
    "logging.basicConfig(level=logging.INFO, format='%(asctime)s - %(levelname)s - %(message)s')\n",
    "\n",
    "def process_csv(input_file):\n",
    "    try:\n",
    "        logging.info(f\"Processing file: {input_file}\")\n",
    "\n",
    "        # Load CSV\n",
    "        df = pd.read_csv(input_file)\n",
    "        logging.info(\"CSV file loaded successfully.\")\n",
    "\n",
    "        # Select relevant columns if they exist\n",
    "        selected_cols = ['Name', 'Sex', 'Age', 'Fare', 'Embarked']\n",
    "        available_cols = [col for col in selected_cols if col in df.columns]\n",
    "        df = df[available_cols]\n",
    "        logging.info(f\"Selected columns: {available_cols}\")\n",
    "\n",
    "        # Fill missing numeric values with mean\n",
    "        for col in df.select_dtypes(include='number').columns:\n",
    "            df[col].fillna(df[col].mean(), inplace=True)\n",
    "            logging.info(f\"Filled missing values in column: {col}\")\n",
    "\n",
    "        # Fill missing categorical values with mode\n",
    "        for col in df.select_dtypes(include='object').columns:\n",
    "            df[col].fillna(df[col].mode()[0], inplace=True)\n",
    "            logging.info(f\"Filled missing values in categorical column: {col}\")\n",
    "\n",
    "        # Encode categorical columns\n",
    "        label_encoder = LabelEncoder()\n",
    "        for col in df.select_dtypes(include='object').columns:\n",
    "            df[col] = label_encoder.fit_transform(df[col])\n",
    "            logging.info(f\"Encoded column: {col}\")\n",
    "\n",
    "        # Scale numeric columns\n",
    "        scaler = StandardScaler()\n",
    "        numeric_cols = df.select_dtypes(include='number').columns\n",
    "        df[numeric_cols] = scaler.fit_transform(df[numeric_cols])\n",
    "        logging.info(f\"Scaled numeric columns: {numeric_cols}\")\n",
    "\n",
    "        # Save processed output\n",
    "        output_file = \"processed_output.csv\"\n",
    "        df.to_csv(output_file, index=False)\n",
    "        logging.info(f\"Processed file saved as '{output_file}'\")\n",
    "\n",
    "    except FileNotFoundError:\n",
    "        logging.error(f\"Error: The file '{input_file}' does not exist.\")\n",
    "    except pd.errors.ParserError:\n",
    "        logging.error(\"Error: There was an issue parsing the CSV file.\")\n",
    "    except Exception as e:\n",
    "        logging.error(f\"Error: {e}\")\n",
    "\n",
    "if __name__ == \"__main__\":\n",
    "    input_path = \"processed_titanic_data.csv\"  # Change this to your actual path\n",
    "\n",
    "    if os.path.exists(input_path):\n",
    "        process_csv(input_path)\n",
    "    else:\n",
    "        logging.error(f\"Error: File '{input_path}' not found.\")\n"
   ]
  },
  {
   "cell_type": "code",
   "execution_count": null,
   "id": "aef19ed4-bbdf-4035-b908-4931aae66861",
   "metadata": {},
   "outputs": [],
   "source": []
  }
 ],
 "metadata": {
  "kernelspec": {
   "display_name": "Python 3 (ipykernel)",
   "language": "python",
   "name": "python3"
  },
  "language_info": {
   "codemirror_mode": {
    "name": "ipython",
    "version": 3
   },
   "file_extension": ".py",
   "mimetype": "text/x-python",
   "name": "python",
   "nbconvert_exporter": "python",
   "pygments_lexer": "ipython3",
   "version": "3.11.2"
  },
  "widgets": {
   "application/vnd.jupyter.widget-state+json": {
    "state": {},
    "version_major": 2,
    "version_minor": 0
   }
  }
 },
 "nbformat": 4,
 "nbformat_minor": 5
}
